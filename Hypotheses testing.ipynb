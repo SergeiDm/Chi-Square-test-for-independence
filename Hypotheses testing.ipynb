{
 "cells": [
  {
   "cell_type": "markdown",
   "metadata": {},
   "source": [
    "## Background\n",
    "\n",
    "The mean normal body temperature was held to be 37$^{\\circ}$C or 98.6$^{\\circ}$F for more than 120 years since it was first conceptualized and reported by Carl Wunderlich in a famous 1868 book. In 1992, this value was revised to 36.8$^{\\circ}$C or 98.2$^{\\circ}$F. \n",
    "\n",
    "There is a dataset of human body temperatures: http://www.amstat.org/publications/jse/datasets/normtemp.txt, http://www.amstat.org/publications/jse/jse_data_archive.htm"
   ]
  },
  {
   "cell_type": "markdown",
   "metadata": {},
   "source": [
    "## Is the distribution of body temperatures normal?\n",
    "Plan:\n",
    "1. Make assumption about the distribution;\n",
    " * Visualize data by using histogram and comparing with the theoretical distribution;\n",
    " * Calculat sample characteristic;\n",
    "2. Test the hypothesis by using?"
   ]
  },
  {
   "cell_type": "code",
   "execution_count": 10,
   "metadata": {
    "collapsed": true
   },
   "outputs": [],
   "source": [
    "import numpy as np\n",
    "import pandas as pd\n",
    "import matplotlib.pyplot as plt\n",
    "from scipy import stats\n",
    "%matplotlib inline\n",
    "\n",
    "# reading given dataset\n",
    "\n",
    "df = pd.read_csv('data/human_body_temperature.csv')"
   ]
  },
  {
   "cell_type": "code",
   "execution_count": 36,
   "metadata": {
    "collapsed": false
   },
   "outputs": [
    {
     "data": {
      "text/plain": [
       "<matplotlib.text.Text at 0x3f02c24e80>"
      ]
     },
     "execution_count": 36,
     "metadata": {},
     "output_type": "execute_result"
    },
    {
     "data": {
      "image/png": "[encoded data removed]",
      "text/plain": [
       "<matplotlib.figure.Figure at 0x3f02f3b1d0>"
      ]
     },
     "metadata": {},
     "output_type": "display_data"
    }
   ],
   "source": [
    "# Make assumption about the distribution\n",
    "# Visualizing data by using histogram of frequency\n",
    "\n",
    "fig, ax = plt.subplots()\n",
    "ax.hist(np.array(df['temperature']), normed = True, bins = 20)\n",
    "ax.set_xlabel('temperature')\n",
    "ax.set_ylabel('frequency')"
   ]
  },
  {
   "cell_type": "code",
   "execution_count": 46,
   "metadata": {
    "collapsed": false
   },
   "outputs": [
    {
     "data": {
      "text/plain": [
       "[<matplotlib.lines.Line2D at 0x3f02dd7ac8>]"
      ]
     },
     "execution_count": 46,
     "metadata": {},
     "output_type": "execute_result"
    },
    {
     "data": {
      "image/png": "[encoded data removed]",
      "text/plain": [
       "<matplotlib.figure.Figure at 0x3f02a6f198>"
      ]
     },
     "metadata": {},
     "output_type": "display_data"
    }
   ],
   "source": [
    "# the histogram above is close to normal distibution\n",
    "# comparing with the theoretical distribution\n",
    "\n",
    "mu, sigma = df['temperature'].mean(), df['temperature'].std()\n",
    "s = np.sort(np.random.normal(mu, sigma, 1000))\n",
    "fig, ax = plt.subplots()\n",
    "ax.hist(np.array(df['temperature']), normed = True, bins = 20)\n",
    "ax.set_xlabel('temperature')\n",
    "ax.set_ylabel('frequency')\n",
    "ax.plot(s, 1/(sigma * np.sqrt(2 * np.pi)) * np.exp(-(s - mu)**2 / (2 * sigma**2)), linewidth = 2)"
   ]
  },
  {
   "cell_type": "code",
   "execution_count": 39,
   "metadata": {
    "collapsed": false
   },
   "outputs": [
    {
     "name": "stdout",
     "output_type": "stream",
     "text": [
      "-0.004419131169 0.780457395034\n"
     ]
    }
   ],
   "source": [
    "# Calculating skewness and kurtosis: both of them should be close to zero\n",
    "\n",
    "sk = df['temperature'].skew()\n",
    "kur = df['temperature'].kurtosis()\n",
    "print(sk, kur)"
   ]
  },
  {
   "cell_type": "code",
   "execution_count": 50,
   "metadata": {
    "collapsed": false
   },
   "outputs": [
    {
     "data": {
      "text/plain": [
       "KstestResult(statistic=0.064726850440472217, pvalue=0.64503073174386882)"
      ]
     },
     "execution_count": 50,
     "metadata": {},
     "output_type": "execute_result"
    }
   ],
   "source": [
    "# Test the hypothesis by using the Kolmogorov-Smirnov test\n",
    "\n",
    "stats.kstest(np.array(df['temperature']), 'norm', args = (mu, sigma))\n",
    "# The results mean that we can't reject null hypothesis that sample distribution is normal"
   ]
  },
  {
   "cell_type": "markdown",
   "metadata": {
    "collapsed": true
   },
   "source": [
    "## Is the true population mean really 98.6 degrees F?\n",
    "Plan:\n",
    "* Calculat the T-test for the mean of ONE group"
   ]
  },
  {
   "cell_type": "code",
   "execution_count": 51,
   "metadata": {
    "collapsed": false
   },
   "outputs": [
    {
     "data": {
      "text/plain": [
       "Ttest_1sampResult(statistic=-5.4548232923645195, pvalue=2.4106320415561276e-07)"
      ]
     },
     "execution_count": 51,
     "metadata": {},
     "output_type": "execute_result"
    }
   ],
   "source": [
    "stats.ttest_1samp(df['temperature'], 98.6)\n",
    "# The results mean that we reject null hypothesis about population mean 98.6"
   ]
  },
  {
   "cell_type": "markdown",
   "metadata": {},
   "source": [
    "## At what temperature should we consider someone's temperature to be \"abnormal\"?\n",
    "Plan:\n",
    "    * computing confidence interval for the mean."
   ]
  },
  {
   "cell_type": "code",
   "execution_count": 62,
   "metadata": {
    "collapsed": false
   },
   "outputs": [
    {
     "data": {
      "text/plain": [
       "(98.123196428181657, 98.375265110279898)"
      ]
     },
     "execution_count": 62,
     "metadata": {},
     "output_type": "execute_result"
    }
   ],
   "source": [
    "# getting critical value\n",
    "\n",
    "crit = stats.norm.ppf(q = 0.975)\n",
    "\n",
    "\n",
    "# computing confidence interval\n",
    "error = crit * (sigma/np.sqrt(len(df['temperature'])))\n",
    "CI = (mu - error, mu + error)\n",
    "CI"
   ]
  },
  {
   "cell_type": "markdown",
   "metadata": {},
   "source": [
    "## Is there a significant difference between males and females in normal temperature?\n",
    "Plan:\n",
    "* Compute the Kolmogorov-Smirnov statistic on 2 samples."
   ]
  },
  {
   "cell_type": "code",
   "execution_count": 72,
   "metadata": {
    "collapsed": false
   },
   "outputs": [
    {
     "data": {
      "text/plain": [
       "Ks_2sampResult(statistic=0.18461538461538457, pvalue=0.19539014047941772)"
      ]
     },
     "execution_count": 72,
     "metadata": {},
     "output_type": "execute_result"
    }
   ],
   "source": [
    "# getting samples for males and females\n",
    "\n",
    "dfm = df.loc[df['gender'] == 'M','temperature']\n",
    "dff = df.loc[df['gender'] == 'F','temperature']\n",
    "\n",
    "# calculating the Kolmogorov-Smirnov statistic\n",
    "\n",
    "stats.ks_2samp(np.array(dfm), np.array(dff))\n",
    "\n",
    "# Since pvalue 19,5 we can't reject hypothesis that samples are drawn from the same distribution, so there is no significant difference."
   ]
  }
 ],
 "metadata": {
  "kernelspec": {
   "display_name": "Python [Root]",
   "language": "python",
   "name": "Python [Root]"
  },
  "language_info": {
   "codemirror_mode": {
    "name": "ipython",
    "version": 3
   },
   "file_extension": ".py",
   "mimetype": "text/x-python",
   "name": "python",
   "nbconvert_exporter": "python",
   "pygments_lexer": "ipython3",
   "version": "3.5.2"
  }
 },
 "nbformat": 4,
 "nbformat_minor": 0
}
